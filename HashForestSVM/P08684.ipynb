{
 "metadata": {
  "name": ""
 },
 "nbformat": 3,
 "nbformat_minor": 0,
 "worksheets": [
  {
   "cells": [
    {
     "cell_type": "code",
     "collapsed": false,
     "input": [
      "from exampleSparse import readX, readY\n",
      "from learn import LinearPegasos\n",
      "\n",
      "X = readX(\"/home/jaak/Dropbox/two/chemogen/P08684/P08684.1000.compounds.txt\")\n",
      "Y = readY(\"/home/jaak/Dropbox/two/chemogen/P08684/P08684.1000.train\")"
     ],
     "language": "python",
     "metadata": {},
     "outputs": [],
     "prompt_number": 2
    },
    {
     "cell_type": "code",
     "collapsed": false,
     "input": [
      "len(X), len(Y)"
     ],
     "language": "python",
     "metadata": {},
     "outputs": [
      {
       "metadata": {},
       "output_type": "pyout",
       "prompt_number": 5,
       "text": [
        "(1000, 1000)"
       ]
      }
     ],
     "prompt_number": 5
    },
    {
     "cell_type": "code",
     "collapsed": false,
     "input": [
      "ids = Y.keys()\n",
      "Ytrain = [Y[i] for i in ids]\n",
      "Xtrain = [X[i] for i in ids]\n",
      "len(Xtrain), len(Ytrain)"
     ],
     "language": "python",
     "metadata": {},
     "outputs": [
      {
       "metadata": {},
       "output_type": "pyout",
       "prompt_number": 8,
       "text": [
        "(1000, 1000)"
       ]
      }
     ],
     "prompt_number": 8
    },
    {
     "cell_type": "code",
     "collapsed": false,
     "input": [
      "lp = LinearPegasos(0.1, 1000000)\n",
      "lp.fit(Xtrain, Ytrain)"
     ],
     "language": "python",
     "metadata": {},
     "outputs": [],
     "prompt_number": 63
    },
    {
     "cell_type": "code",
     "collapsed": false,
     "input": [
      "Yhat2 = lp.decisionValues(Xtrain)"
     ],
     "language": "python",
     "metadata": {},
     "outputs": [],
     "prompt_number": 64
    },
    {
     "cell_type": "code",
     "collapsed": false,
     "input": [
      "Yhat[0:6], Yhat2[0:6]"
     ],
     "language": "python",
     "metadata": {},
     "outputs": [
      {
       "metadata": {},
       "output_type": "pyout",
       "prompt_number": 65,
       "text": [
        "([1.0016799999999997,\n",
        "  0.803389999999999,\n",
        "  1.0016800000000048,\n",
        "  0.9801999999999941,\n",
        "  -0.6650400000000002,\n",
        "  0.9714299999999949],\n",
        " [1.0016399999999999,\n",
        "  0.7469499999999998,\n",
        "  1.003290000000004,\n",
        "  0.9807899999999939,\n",
        "  -0.7026800000000002,\n",
        "  0.9457999999999952])"
       ]
      }
     ],
     "prompt_number": 65
    },
    {
     "cell_type": "code",
     "collapsed": false,
     "input": [
      "from exampleSparse import generateX, generateY, generateW, generateW2"
     ],
     "language": "python",
     "metadata": {},
     "outputs": [],
     "prompt_number": 36
    },
    {
     "cell_type": "code",
     "collapsed": false,
     "input": [
      "w = generateW2()\n",
      "Xtrain2 = generateX(4000)\n",
      "Ytrain2 = generateY(Xtrain2, w)\n",
      "lp2 = LinearPegasos(0.1, 100000)\n",
      "lp2.fit(Xtrain2, Ytrain2)"
     ],
     "language": "python",
     "metadata": {},
     "outputs": [],
     "prompt_number": 40
    },
    {
     "cell_type": "code",
     "collapsed": false,
     "input": [
      "str(lp2.w)"
     ],
     "language": "python",
     "metadata": {},
     "outputs": [
      {
       "metadata": {},
       "output_type": "pyout",
       "prompt_number": 41,
       "text": [
        "'[0 => -0.149, 1 => -0.193, 2 => -0.208, 3 => -0.149, 4 => -0.173, 5 => -0.139, 6 => -0.113, 7 => -0.172, 8 => -0.046, 9 => -0.119, 10 => -0.154, 11 => -0.155, 12 => -0.136, 13 => -0.138, 14 => -0.126, 15 => -0.144, 16 => -0.169, 17 => -0.124, 18 => -0.134, 19 => -0.142, 20 => -0.173, 21 => -0.143, 22 => -0.164, 23 => -0.155, 24 => -0.118, 25 => -0.181, 26 => -0.177, 27 => -0.180, 28 => -0.151, 29 => -0.186, 30 => -0.126, 31 => -0.136, 32 => -0.177, 33 => -0.174, 34 => -0.175, 35 => -0.129, 36 => -0.136, 37 => -0.117, 38 => -0.131, 39 => -0.161, 40 => -0.148, 41 => -0.187, 42 => -0.144, 43 => -0.156, 44 => -0.121, 45 => -0.172, 46 => -0.163, 47 => -0.119, 48 => -0.146, 49 => -0.159, 50 => 0.176, 51 => 0.142, 52 => 0.108, 53 => 0.096, 54 => 0.147, 55 => 0.153, 56 => 0.139, 57 => 0.131, 58 => 0.149, 59 => 0.102, 60 => 0.112, 61 => 0.116, 62 => 0.117, 63 => 0.118, 64 => 0.115, 65 => 0.118, 66 => 0.097, 67 => 0.138, 68 => 0.136, 69 => 0.153, 70 => 0.112, 71 => 0.134, 72 => 0.115, 73 => 0.123, 74 => 0.139, 75 => 0.114, 76 => 0.153, 77 => 0.155, 78 => 0.069, 79 => 0.204, 80 => 0.133, 81 => 0.176, 82 => 0.160, 83 => 0.127, 84 => 0.101, 85 => 0.151, 86 => 0.129, 87 => 0.135, 88 => 0.118, 89 => 0.108, 90 => 0.127, 91 => 0.119, 92 => 0.135, 93 => 0.117, 94 => 0.175, 95 => 0.161, 96 => 0.160, 97 => 0.090, 98 => 0.115, 99 => 0.104]'"
       ]
      }
     ],
     "prompt_number": 41
    },
    {
     "cell_type": "code",
     "collapsed": false,
     "input": [],
     "language": "python",
     "metadata": {},
     "outputs": []
    }
   ],
   "metadata": {}
  }
 ]
}